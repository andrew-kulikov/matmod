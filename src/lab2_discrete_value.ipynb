{
 "cells": [
  {
   "cell_type": "code",
   "execution_count": 8,
   "metadata": {},
   "outputs": [],
   "source": [
    "import numpy as np\n",
    "import pandas as pd\n",
    "\n",
    "from statlib.rand.basic_rand import BasicRand\n",
    "from statlib.rand.engine import LCG\n",
    "\n",
    "from matplotlib import pyplot as plt\n",
    "from mpl_toolkits.mplot3d import Axes3D\n",
    "\n",
    "plt.style.use('ggplot')"
   ]
  },
  {
   "cell_type": "code",
   "execution_count": 9,
   "metadata": {},
   "outputs": [],
   "source": [
    "class Discrete2D:\n",
    "    def __init__(self, n, m, xvals, yvals, theor=None):\n",
    "        self.gen = BasicRand(LCG())\n",
    "        self.n = n\n",
    "        self.m = m\n",
    "        self.total_vars = n * m\n",
    "        self.theor = self._create_theor(theor)\n",
    "        self.xvals = xvals\n",
    "        self.yvals = yvals\n",
    "        self.x_prob_t, self.y_prob_t = self._build_components(self.theor)\n",
    "    \n",
    "    def _create_theor(self, theor):\n",
    "        if theor: return np.array(theor)\n",
    "        return np.array([[1 / self.total_vars] * self.m] * self.n)\n",
    "    \n",
    "    def _build_components(self, Z):\n",
    "        x_probs = [np.sum(Z[i, :]) for i in range(self.n)]\n",
    "        y_probs = [np.sum(Z[:, i]) for i in range(self.m)]\n",
    "        return x_probs, y_probs\n",
    "        \n",
    "    def experiment(self, cnt):\n",
    "        Z = np.zeros((self.n, self.m))\n",
    "        \n",
    "        for i in range(cnt):\n",
    "            x, y = self.next_pos()\n",
    "            Z[x][y] += 1\n",
    "\n",
    "        self.emp = self._norm(Z)\n",
    "        self.total = cnt\n",
    "        self.x_emp = [np.sum(self.emp[i, :]) for i in range(n)]\n",
    "        self.y_emp = [np.sum(self.emp[:, i]) for i in range(m)]\n",
    "    \n",
    "    def next_pos(self):\n",
    "        x = self._next_id(self.gen, self.x_prob_t)\n",
    "        y = self._next_id(self.gen, self.theor[x, :], self.x_prob_t[x])\n",
    "        return x, y\n",
    "    \n",
    "    @staticmethod\n",
    "    def _norm(mat):\n",
    "        return np.array(mat) / np.sum(mat)\n",
    "    \n",
    "    @staticmethod\n",
    "    def _next_id(gen, probs, max_prob=1):\n",
    "        cur_prob = 0\n",
    "        gen_prob = gen.next() * max_prob\n",
    "        for i in range(len(probs)):\n",
    "            cur_prob += probs[i]\n",
    "            if cur_prob >= gen_prob:\n",
    "                return i"
   ]
  },
  {
   "cell_type": "code",
   "execution_count": 10,
   "metadata": {},
   "outputs": [],
   "source": [
    "n = 10\n",
    "m = 10"
   ]
  },
  {
   "cell_type": "code",
   "execution_count": 11,
   "metadata": {},
   "outputs": [],
   "source": [
    "def experiment(n, m, xvals, yvals):\n",
    "    def decorator(foo):\n",
    "        def inner(*args, **kwargs):\n",
    "            dis = Discrete2D(n, m, xvals, yvals)\n",
    "            size = dis.total_vars\n",
    "            \n",
    "            for exp_size in [size, size * 10, size * 100, size * 1000]:\n",
    "                print('-' * 40)\n",
    "                print('n =', exp_size)\n",
    "                dis.experiment(exp_size)\n",
    "                foo(dis)\n",
    "        return inner\n",
    "    return decorator"
   ]
  },
  {
   "cell_type": "code",
   "execution_count": 12,
   "metadata": {},
   "outputs": [],
   "source": [
    "xvals = np.arange(n)\n",
    "yvals = np.arange(m)"
   ]
  },
  {
   "cell_type": "code",
   "execution_count": 13,
   "metadata": {},
   "outputs": [],
   "source": [
    "def autolabel(rects, xpos='center'):\n",
    "    ha = {'center': 'center', 'right': 'left', 'left': 'right'}\n",
    "    offset = {'center': 0, 'right': 1, 'left': -1}\n",
    "\n",
    "    for rect in rects:\n",
    "        height = rect.get_height()\n",
    "        plt.annotate('{0:.3f}'.format(height),\n",
    "                    xy=(rect.get_x() + rect.get_width() / 2, height),\n",
    "                    xytext=(offset[xpos]*3, 3),  # use 3 points offset\n",
    "                    textcoords='offset points',  # in both directions\n",
    "                    ha=ha[xpos], \n",
    "                    va='bottom',\n",
    "                    rotation=90)\n",
    "\n",
    "def plot_distr(n, emp, theor, title):\n",
    "    xrange = np.arange(n)\n",
    "\n",
    "    width = 0.425\n",
    "\n",
    "    fig, ax = plt.subplots()\n",
    "\n",
    "    rects_pract = ax.bar(xrange - width / 2, emp, width, label='Practical')\n",
    "    rects_theor = ax.bar(xrange + width / 2, theor, width, label='Theoretical')\n",
    "\n",
    "    autolabel(rects_pract)\n",
    "    autolabel(rects_theor)\n",
    "\n",
    "    ax.set_ylim((0, ax.get_ylim()[1] * 1.25))\n",
    "    fig.tight_layout()\n",
    "\n",
    "    ax.set_title(title)\n",
    "    ax.set_xticks(xrange)\n",
    "    ax.legend()\n",
    "    plt.show()"
   ]
  },
  {
   "cell_type": "code",
   "execution_count": 14,
   "metadata": {},
   "outputs": [],
   "source": [
    "@experiment(n, m, xvals, yvals)\n",
    "def plot_distributions(dis):\n",
    "    plot_distr(dis.n, dis.x_emp, dis.x_prob_t, 'X')\n",
    "    plot_distr(dis.m, dis.y_emp, dis.y_prob_t, 'Y')"
   ]
  },
  {
   "cell_type": "code",
   "execution_count": 15,
   "metadata": {
    "scrolled": false
   },
   "outputs": [
    {
     "name": "stdout",
     "output_type": "stream",
     "text": [
      "----------------------------------------\n",
      "n = 100\n"
     ]
    },
    {
     "data": {
      "image/png": "[encoded data removed]",
      "text/plain": [
       "<Figure size 432x288 with 1 Axes>"
      ]
     },
     "metadata": {},
     "output_type": "display_data"
    },
    {
     "data": {
      "image/png": "[encoded data removed]",
      "text/plain": [
       "<Figure size 432x288 with 1 Axes>"
      ]
     },
     "metadata": {},
     "output_type": "display_data"
    },
    {
     "name": "stdout",
     "output_type": "stream",
     "text": [
      "----------------------------------------\n",
      "n = 1000\n"
     ]
    },
    {
     "data": {
      "image/png": "[encoded data removed]",
      "text/plain": [
       "<Figure size 432x288 with 1 Axes>"
      ]
     },
     "metadata": {},
     "output_type": "display_data"
    },
    {
     "data": {
      "image/png": "[encoded data removed]",
      "text/plain": [
       "<Figure size 432x288 with 1 Axes>"
      ]
     },
     "metadata": {},
     "output_type": "display_data"
    },
    {
     "name": "stdout",
     "output_type": "stream",
     "text": [
      "----------------------------------------\n",
      "n = 10000\n"
     ]
    },
    {
     "data": {
      "image/png": "[encoded data removed]",
      "text/plain": [
       "<Figure size 432x288 with 1 Axes>"
      ]
     },
     "metadata": {},
     "output_type": "display_data"
    },
    {
     "data": {
      "image/png": "[encoded data removed]",
      "text/plain": [
       "<Figure size 432x288 with 1 Axes>"
      ]
     },
     "metadata": {},
     "output_type": "display_data"
    },
    {
     "name": "stdout",
     "output_type": "stream",
     "text": [
      "----------------------------------------\n",
      "n = 100000\n"
     ]
    },
    {
     "data": {
      "image/png": "[encoded data removed]",
      "text/plain": [
       "<Figure size 432x288 with 1 Axes>"
      ]
     },
     "metadata": {},
     "output_type": "display_data"
    },
    {
     "data": {
      "image/png": "[encoded data removed]",
      "text/plain": [
       "<Figure size 432x288 with 1 Axes>"
      ]
     },
     "metadata": {},
     "output_type": "display_data"
    }
   ],
   "source": [
    "plot_distributions()"
   ]
  },
  {
   "cell_type": "markdown",
   "metadata": {},
   "source": [
    "### Точечные оценки компонент"
   ]
  },
  {
   "cell_type": "markdown",
   "metadata": {},
   "source": [
    "#### Матожидание"
   ]
  },
  {
   "cell_type": "code",
   "execution_count": 16,
   "metadata": {},
   "outputs": [],
   "source": [
    "def expectation_table(mat, vals, axis=0):\n",
    "    n, m = mat.shape\n",
    "    \n",
    "    res = 0\n",
    "    for i in range(n):\n",
    "        for j in range(m):\n",
    "            val_id = j if axis else i\n",
    "            res += mat[i, j] * vals[val_id]\n",
    "    \n",
    "    return res"
   ]
  },
  {
   "cell_type": "code",
   "execution_count": 17,
   "metadata": {},
   "outputs": [],
   "source": [
    "@experiment(n, m, xvals, yvals)\n",
    "def get_expectations(dis):\n",
    "    m_xt = expectation_table(dis.theor, dis.xvals)\n",
    "    m_yt = expectation_table(dis.theor, dis.yvals, 1)\n",
    "\n",
    "    m_x = expectation_table(dis.emp, dis.xvals)\n",
    "    m_y = expectation_table(dis.emp, dis.yvals, 1)\n",
    "    \n",
    "    print('Empirical E[X]: {:.6}, Theoretical E[X]: {:.6}'.format(m_x, m_xt))\n",
    "    print('Empirical E[Y]: {:.6}, Theoretical E[Y]: {:.6}'.format(m_y, m_yt))"
   ]
  },
  {
   "cell_type": "code",
   "execution_count": 18,
   "metadata": {},
   "outputs": [
    {
     "name": "stdout",
     "output_type": "stream",
     "text": [
      "----------------------------------------\n",
      "n = 100\n",
      "Empirical E[X]: 4.91, Theoretical E[X]: 4.5\n",
      "Empirical E[Y]: 4.56, Theoretical E[Y]: 4.5\n",
      "----------------------------------------\n",
      "n = 1000\n",
      "Empirical E[X]: 4.412, Theoretical E[X]: 4.5\n",
      "Empirical E[Y]: 4.518, Theoretical E[Y]: 4.5\n",
      "----------------------------------------\n",
      "n = 10000\n",
      "Empirical E[X]: 4.5069, Theoretical E[X]: 4.5\n",
      "Empirical E[Y]: 4.5007, Theoretical E[Y]: 4.5\n",
      "----------------------------------------\n",
      "n = 100000\n",
      "Empirical E[X]: 4.49025, Theoretical E[X]: 4.5\n",
      "Empirical E[Y]: 4.50783, Theoretical E[Y]: 4.5\n"
     ]
    }
   ],
   "source": [
    "get_expectations()"
   ]
  },
  {
   "cell_type": "markdown",
   "metadata": {},
   "source": [
    "#### Дисперсия"
   ]
  },
  {
   "cell_type": "code",
   "execution_count": 19,
   "metadata": {},
   "outputs": [],
   "source": [
    "def dispersion_table(mat, vals, axis=0):\n",
    "    n, m = mat.shape\n",
    "    e_x = expectation_table(mat, vals, axis)\n",
    "    \n",
    "    res = 0\n",
    "    for i in range(n):\n",
    "        for j in range(m):\n",
    "            val_id = j if axis else i\n",
    "            res += mat[i, j] * (vals[val_id] - e_x)**2\n",
    "    \n",
    "    return res"
   ]
  },
  {
   "cell_type": "code",
   "execution_count": 20,
   "metadata": {},
   "outputs": [],
   "source": [
    "@experiment(n, m, xvals, yvals)\n",
    "def get_dispersions(dis):\n",
    "    d_xt = dispersion_table(dis.theor, dis.xvals)\n",
    "    d_yt = dispersion_table(dis.theor, dis.yvals, 1)\n",
    "\n",
    "    d_x = dispersion_table(dis.emp, dis.xvals)\n",
    "    d_y = dispersion_table(dis.emp, dis.yvals, 1)\n",
    "    \n",
    "    print('Empirical D[X]: {:.6}, Theoretical D[X]: {:.6}'.format(d_x, d_xt))\n",
    "    print('Empirical D[Y]: {:.6}, Theoretical D[Y]: {:.6}'.format(d_y, d_yt))"
   ]
  },
  {
   "cell_type": "code",
   "execution_count": 21,
   "metadata": {},
   "outputs": [
    {
     "name": "stdout",
     "output_type": "stream",
     "text": [
      "----------------------------------------\n",
      "n = 100\n",
      "Empirical D[X]: 8.9219, Theoretical D[X]: 8.25\n",
      "Empirical D[Y]: 8.4264, Theoretical D[Y]: 8.25\n",
      "----------------------------------------\n",
      "n = 1000\n",
      "Empirical D[X]: 8.02426, Theoretical D[X]: 8.25\n",
      "Empirical D[Y]: 8.24368, Theoretical D[Y]: 8.25\n",
      "----------------------------------------\n",
      "n = 10000\n",
      "Empirical D[X]: 8.17735, Theoretical D[X]: 8.25\n",
      "Empirical D[Y]: 8.4142, Theoretical D[Y]: 8.25\n",
      "----------------------------------------\n",
      "n = 100000\n",
      "Empirical D[X]: 8.2419, Theoretical D[X]: 8.25\n",
      "Empirical D[Y]: 8.24876, Theoretical D[Y]: 8.25\n"
     ]
    }
   ],
   "source": [
    "get_dispersions()"
   ]
  },
  {
   "cell_type": "markdown",
   "metadata": {},
   "source": [
    "#### Корелляция"
   ]
  },
  {
   "cell_type": "code",
   "execution_count": 22,
   "metadata": {},
   "outputs": [],
   "source": [
    "def expectation_xy_table(mat, xvals, yvals):\n",
    "    n, m = mat.shape\n",
    "\n",
    "    res = 0\n",
    "    for i in range(n):\n",
    "        for j in range(m):\n",
    "            res += mat[i, j] * xvals[i] * yvals[j]\n",
    "    \n",
    "    return res"
   ]
  },
  {
   "cell_type": "code",
   "execution_count": 23,
   "metadata": {},
   "outputs": [],
   "source": [
    "@experiment(n, m, xvals, yvals)\n",
    "def covariances(dis):\n",
    "    m_x = expectation_table(dis.emp, dis.xvals)\n",
    "    m_y = expectation_table(dis.emp, dis.xvals, 1)\n",
    "    m_xy = expectation_xy_table(dis.emp, dis.xvals, dis.yvals)\n",
    "    \n",
    "    d_x = dispersion_table(dis.emp, dis.xvals)\n",
    "    d_y = dispersion_table(dis.emp, dis.yvals, 1)\n",
    "\n",
    "    covariance = m_xy - m_x * m_y\n",
    "    r = covariance / (np.sqrt(d_x) * np.sqrt(d_y)) \n",
    "    \n",
    "    print('r = {:.6}'.format(r))"
   ]
  },
  {
   "cell_type": "code",
   "execution_count": 24,
   "metadata": {},
   "outputs": [
    {
     "name": "stdout",
     "output_type": "stream",
     "text": [
      "----------------------------------------\n",
      "n = 100\n",
      "r = 0.121145\n",
      "----------------------------------------\n",
      "n = 1000\n",
      "r = 0.046179\n",
      "----------------------------------------\n",
      "n = 10000\n",
      "r = -0.0101393\n",
      "----------------------------------------\n",
      "n = 100000\n",
      "r = 0.00108138\n"
     ]
    }
   ],
   "source": [
    "covariances()"
   ]
  },
  {
   "cell_type": "markdown",
   "metadata": {},
   "source": [
    "### Доверительные интервалы"
   ]
  },
  {
   "cell_type": "markdown",
   "metadata": {},
   "source": [
    "#### 1. Доверительный интервал для матожидания"
   ]
  },
  {
   "cell_type": "code",
   "execution_count": 25,
   "metadata": {},
   "outputs": [],
   "source": [
    "from statlib.metrics import get_exp_interval\n",
    "\n",
    "@experiment(n, m, xvals, yvals)\n",
    "def build_exp_intervals(dis):\n",
    "    for alpha_e in [0.01, 0.05, 0.1, 0.3]:\n",
    "        laplace_e = (1 - alpha_e)\n",
    "\n",
    "        m_x = expectation_table(dis.emp, dis.xvals)\n",
    "        m_y = expectation_table(dis.emp, dis.xvals, 1)\n",
    "        m_xy = expectation_xy_table(dis.emp, dis.xvals, dis.yvals)\n",
    "\n",
    "        d_x = dispersion_table(dis.emp, dis.xvals)\n",
    "        d_y = dispersion_table(dis.emp, dis.yvals, 1)\n",
    "\n",
    "        interval_len_x = get_exp_interval(d_x, laplace_e, n * m)\n",
    "        interval_len_y = get_exp_interval(d_y, laplace_e, n * m)\n",
    "\n",
    "        print('Interval for E(X) with alpha = {} is ({}, {})'.format(alpha_e, m_x - interval_len_x, m_x + interval_len_x))\n",
    "        print('Interval for E(Y) with alpha = {} is ({}, {})'.format(alpha_e, m_y - interval_len_y, m_y + interval_len_y))\n",
    "        print('+++++++')"
   ]
  },
  {
   "cell_type": "code",
   "execution_count": 26,
   "metadata": {},
   "outputs": [
    {
     "name": "stdout",
     "output_type": "stream",
     "text": [
      "----------------------------------------\n",
      "n = 100\n",
      "Interval for E(X) with alpha = 0.01 is (2.834455690259501, 6.9855443097404955)\n",
      "Interval for E(Y) with alpha = 0.01 is (2.5997262274182242, 6.520273772581773)\n",
      "+++++++\n",
      "Interval for E(X) with alpha = 0.05 is (3.4424780425701647, 6.377521957429832)\n",
      "Interval for E(Y) with alpha = 0.05 is (3.1739805397856102, 5.946019460214387)\n",
      "+++++++\n",
      "Interval for E(X) with alpha = 0.1 is (3.7666125087367615, 6.053387491263235)\n",
      "Interval for E(Y) with alpha = 0.1 is (3.4801133888094964, 5.6398866111905015)\n",
      "+++++++\n",
      "Interval for E(X) with alpha = 0.3 is (4.442135106567012, 5.377864893432985)\n",
      "Interval for E(Y) with alpha = 0.3 is (4.118119151971696, 5.001880848028302)\n",
      "+++++++\n",
      "----------------------------------------\n",
      "n = 1000\n",
      "Interval for E(X) with alpha = 0.01 is (2.5452789113640546, 6.2787210886359475)\n",
      "Interval for E(Y) with alpha = 0.01 is (2.6002341863118503, 6.4357658136881515)\n",
      "+++++++\n",
      "Interval for E(X) with alpha = 0.05 is (3.0921273414812895, 5.7318726585187125)\n",
      "Interval for E(Y) with alpha = 0.05 is (3.1620359631987203, 5.873964036801281)\n",
      "+++++++\n",
      "Interval for E(X) with alpha = 0.1 is (3.3836502160869353, 5.440349783913066)\n",
      "Interval for E(Y) with alpha = 0.1 is (3.4615304116357555, 5.574469588364246)\n",
      "+++++++\n",
      "Interval for E(X) with alpha = 0.3 is (3.9912076039499436, 4.832792396050058)\n",
      "Interval for E(Y) with alpha = 0.3 is (4.085701207900104, 4.950298792099898)\n",
      "+++++++\n",
      "----------------------------------------\n",
      "n = 10000\n",
      "Interval for E(X) with alpha = 0.01 is (2.6045633652240725, 6.4092366347759295)\n",
      "Interval for E(Y) with alpha = 0.01 is (2.5432644858156004, 6.458135514184399)\n",
      "+++++++\n",
      "Interval for E(X) with alpha = 0.05 is (3.1618452262448224, 5.851954773755179)\n",
      "Interval for E(Y) with alpha = 0.05 is (3.116687341808319, 5.884712658191679)\n",
      "+++++++\n",
      "Interval for E(X) with alpha = 0.1 is (3.458930124258563, 5.5548698757414385)\n",
      "Interval for E(Y) with alpha = 0.1 is (3.422376944515488, 5.579023055484511)\n",
      "+++++++\n",
      "Interval for E(X) with alpha = 0.3 is (4.078079221408968, 4.935720778591033)\n",
      "Interval for E(Y) with alpha = 0.3 is (4.059458946292825, 4.941941053707174)\n",
      "+++++++\n",
      "----------------------------------------\n",
      "n = 100000\n",
      "Interval for E(X) with alpha = 0.01 is (2.5728961970600177, 6.407603802939985)\n",
      "Interval for E(Y) with alpha = 0.01 is (2.588881775548359, 6.426778224451638)\n",
      "+++++++\n",
      "Interval for E(X) with alpha = 0.05 is (3.134577277056389, 5.845922722943614)\n",
      "Interval for E(Y) with alpha = 0.05 is (3.151029934909667, 5.86463006509033)\n",
      "+++++++\n",
      "Interval for E(X) with alpha = 0.1 is (3.4340073824277115, 5.546492617572291)\n",
      "Interval for E(Y) with alpha = 0.1 is (3.450709038562115, 5.564950961437882)\n",
      "+++++++\n",
      "Interval for E(X) with alpha = 0.3 is (4.058044082508408, 4.922455917491595)\n",
      "Interval for E(Y) with alpha = 0.3 is (4.075264671318224, 4.940395328681773)\n",
      "+++++++\n"
     ]
    }
   ],
   "source": [
    "build_exp_intervals()"
   ]
  },
  {
   "cell_type": "markdown",
   "metadata": {},
   "source": [
    "#### 2. Доверительный интервал для дисперсии"
   ]
  },
  {
   "cell_type": "code",
   "execution_count": 27,
   "metadata": {},
   "outputs": [],
   "source": [
    "from statlib.metrics import get_dispersion_borders\n",
    "\n",
    "@experiment(n, m, xvals, yvals)\n",
    "def build_dispersion_intervals(dis):\n",
    "    for alpha_e in [0.01, 0.05, 0.1, 0.3]:\n",
    "        laplace_e = (1 - alpha_e)\n",
    "        \n",
    "        d_x = dispersion_table(dis.emp, dis.xvals)\n",
    "        d_y = dispersion_table(dis.emp, dis.yvals, 1)\n",
    "\n",
    "        dx_l, dx_r = get_dispersion_borders(d_x, laplace_e, dis.total)\n",
    "        dy_l, dy_r = get_dispersion_borders(d_y, laplace_e, dis.total)\n",
    "\n",
    "        print('Interval for D(X) with alpha = {} is ({}, {})'.format(alpha_e, dx_l, dx_r))\n",
    "        print('Interval for D(Y) with alpha = {} is ({}, {})'.format(alpha_e, dy_l, dy_r))\n",
    "        print('+++++++')"
   ]
  },
  {
   "cell_type": "code",
   "execution_count": 28,
   "metadata": {},
   "outputs": [
    {
     "name": "stdout",
     "output_type": "stream",
     "text": [
      "----------------------------------------\n",
      "n = 100\n",
      "Interval for D(X) with alpha = 0.01 is (8.966286742872272, 8.99837949814024)\n",
      "Interval for D(Y) with alpha = 0.01 is (8.468321614245724, 8.498632018194435)\n",
      "+++++++\n",
      "Interval for D(X) with alpha = 0.05 is (8.902507655031918, 9.06307683845005)\n",
      "Interval for D(Y) with alpha = 0.05 is (8.408084657344396, 8.559736230120883)\n",
      "+++++++\n",
      "Interval for D(X) with alpha = 0.1 is (8.823334204652891, 9.145135044401776)\n",
      "Interval for D(Y) with alpha = 0.1 is (8.33330830227722, 8.637237128655011)\n",
      "+++++++\n",
      "Interval for D(X) with alpha = 0.3 is (8.506529310173477, 9.494240410094045)\n",
      "Interval for D(Y) with alpha = 0.3 is (8.034097958870397, 8.966954055931637)\n",
      "+++++++\n",
      "----------------------------------------\n",
      "n = 1000\n",
      "Interval for D(X) with alpha = 0.01 is (8.025111268281352, 8.034119696723078)\n",
      "Interval for D(Y) with alpha = 0.01 is (8.24455465524287, 8.253809415477686)\n",
      "+++++++\n",
      "Interval for D(X) with alpha = 0.05 is (8.007120657697623, 8.052191263562024)\n",
      "Interval for D(Y) with alpha = 0.05 is (8.226072098767302, 8.272375141924178)\n",
      "+++++++\n",
      "Interval for D(X) with alpha = 0.1 is (7.984623072959157, 8.074943159566711)\n",
      "Interval for D(Y) with alpha = 0.1 is (8.202959326771186, 8.295749179224126)\n",
      "+++++++\n",
      "Interval for D(X) with alpha = 0.3 is (7.892716554810023, 8.169695266133429)\n",
      "Interval for D(Y) with alpha = 0.3 is (8.108539662454696, 8.393092243410202)\n",
      "+++++++\n",
      "----------------------------------------\n",
      "n = 10000\n",
      "Interval for D(X) with alpha = 0.01 is (8.176448157214582, 8.179347447884357)\n",
      "Interval for D(Y) with alpha = 0.01 is (8.413269087205787, 8.4162523523226)\n",
      "+++++++\n",
      "Interval for D(X) with alpha = 0.05 is (8.170649130195024, 8.1851547086927)\n",
      "Interval for D(Y) with alpha = 0.05 is (8.407302098383573, 8.422227813415331)\n",
      "+++++++\n",
      "Interval for D(X) with alpha = 0.1 is (8.163380600984869, 8.192449102861211)\n",
      "Interval for D(Y) with alpha = 0.1 is (8.399823045017436, 8.429733480887052)\n",
      "+++++++\n",
      "Interval for D(X) with alpha = 0.3 is (8.133492160688592, 8.222626937040301)\n",
      "Interval for D(Y) with alpha = 0.3 is (8.369068922203414, 8.46078537952763)\n",
      "+++++++\n",
      "----------------------------------------\n",
      "n = 100000\n",
      "Interval for D(X) with alpha = 0.01 is (8.241497924830618, 8.242421878462709)\n",
      "Interval for D(Y) with alpha = 0.01 is (8.248351339969476, 8.249276061937357)\n",
      "+++++++\n",
      "Interval for D(X) with alpha = 0.05 is (8.239648978977762, 8.244271654030333)\n",
      "Interval for D(Y) with alpha = 0.05 is (8.24650085658138, 8.25112737573019)\n",
      "+++++++\n",
      "Interval for D(X) with alpha = 0.1 is (8.237329810813748, 8.246593428591353)\n",
      "Interval for D(Y) with alpha = 0.1 is (8.244179759857492, 8.253451081018499)\n",
      "+++++++\n",
      "Interval for D(X) with alpha = 0.3 is (8.227773484235165, 8.256178917031475)\n",
      "Interval for D(Y) with alpha = 0.3 is (8.234615486486486, 8.263044540501285)\n",
      "+++++++\n"
     ]
    }
   ],
   "source": [
    "build_dispersion_intervals()"
   ]
  },
  {
   "cell_type": "markdown",
   "metadata": {},
   "source": [
    "### Критерий хи-квадрат"
   ]
  },
  {
   "cell_type": "code",
   "execution_count": 29,
   "metadata": {},
   "outputs": [],
   "source": [
    "def calc_chi(theor, emp):\n",
    "    n, m = emp.shape\n",
    "    \n",
    "    chi_val = 0\n",
    "    for i in range(n):\n",
    "        for j in range(m):\n",
    "            chi_val += (theor[i, j] - emp[i, j])**2 / theor[i, j]\n",
    "    \n",
    "    return chi_val * n * m\n",
    "\n",
    "def chi2_1d(theor_probs, emp_probs):\n",
    "    n = len(theor_probs)\n",
    "    \n",
    "    chi_val = 0\n",
    "    for i in range(n):\n",
    "        chi_val += (theor_probs[i] - emp_probs[i])**2 / theor_probs[i]\n",
    "    \n",
    "    return chi_val / n"
   ]
  },
  {
   "cell_type": "code",
   "execution_count": 30,
   "metadata": {},
   "outputs": [],
   "source": [
    "from scipy.stats import chi2\n",
    "\n",
    "@experiment(n, m, xvals, yvals)\n",
    "def build_chi_criteria(dis):\n",
    "    alpha = 0.05\n",
    "    \n",
    "    emp_chi = calc_chi(dis.theor, dis.emp)\n",
    "    theor_chi = chi2.ppf(alpha, dis.total_vars)\n",
    "    \n",
    "    x_chi = chi2_1d(dis.x_prob_t, dis.x_emp)\n",
    "    y_chi = chi2_1d(dis.y_prob_t, dis.y_emp)\n",
    "    \n",
    "    print('alpha = {}')\n",
    "    print('practical = {:.6}, theoretical = {:.6}'.format(alpha, emp_chi, theor_chi))\n",
    "    print('x practical = {:.6}'.format(x_chi))\n",
    "    print('y practical = {:.6}'.format(y_chi))"
   ]
  },
  {
   "cell_type": "code",
   "execution_count": 31,
   "metadata": {},
   "outputs": [
    {
     "name": "stdout",
     "output_type": "stream",
     "text": [
      "----------------------------------------\n",
      "n = 100\n",
      "alpha = {}\n",
      "practical = 0.05, theoretical = 86.0\n",
      "x practical = 0.0122\n",
      "y practical = 0.005\n",
      "----------------------------------------\n",
      "n = 1000\n",
      "alpha = {}\n",
      "practical = 0.05, theoretical = 10.16\n",
      "x practical = 0.000716\n",
      "y practical = 0.000458\n",
      "----------------------------------------\n",
      "n = 10000\n",
      "alpha = {}\n",
      "practical = 0.05, theoretical = 1.0554\n",
      "x practical = 0.0002359\n",
      "y practical = 0.0001397\n",
      "----------------------------------------\n",
      "n = 100000\n",
      "alpha = {}\n",
      "practical = 0.05, theoretical = 0.097288\n",
      "x practical = 4.2598e-06\n",
      "y practical = 7.1368e-06\n"
     ]
    }
   ],
   "source": [
    "build_chi_criteria()"
   ]
  },
  {
   "cell_type": "code",
   "execution_count": null,
   "metadata": {},
   "outputs": [],
   "source": []
  }
 ],
 "metadata": {
  "kernelspec": {
   "display_name": "Python 3",
   "language": "python",
   "name": "python3"
  },
  "language_info": {
   "codemirror_mode": {
    "name": "ipython",
    "version": 3
   },
   "file_extension": ".py",
   "mimetype": "text/x-python",
   "name": "python",
   "nbconvert_exporter": "python",
   "pygments_lexer": "ipython3",
   "version": "3.6.6"
  }
 },
 "nbformat": 4,
 "nbformat_minor": 2
}

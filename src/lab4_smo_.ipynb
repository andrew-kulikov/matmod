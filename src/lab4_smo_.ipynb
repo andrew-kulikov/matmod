{
 "cells": [
  {
   "cell_type": "code",
   "execution_count": 893,
   "metadata": {},
   "outputs": [],
   "source": [
    "import numpy as np\n",
    "import pandas as pd\n",
    "import math\n",
    "\n",
    "from matplotlib import pyplot as plt"
   ]
  },
  {
   "cell_type": "markdown",
   "metadata": {},
   "source": [
    "#### Параметры СМО"
   ]
  },
  {
   "cell_type": "code",
   "execution_count": 1119,
   "metadata": {},
   "outputs": [],
   "source": [
    "λ = 3.55\n",
    "μ = 1.5\n",
    "p = 0.8\n",
    "q = 1 - p\n",
    "\n",
    "m = 10\n",
    "n = 3"
   ]
  },
  {
   "cell_type": "markdown",
   "metadata": {},
   "source": [
    "Разыгрываем событие отказа в обслуживании"
   ]
  },
  {
   "cell_type": "code",
   "execution_count": 1060,
   "metadata": {},
   "outputs": [],
   "source": [
    "def play_probability(p):\n",
    "    rnd = np.random.uniform()\n",
    "    return rnd <= p"
   ]
  },
  {
   "cell_type": "markdown",
   "metadata": {},
   "source": [
    "#### Запрос\n",
    "\n",
    "Содержит иформацию о времени, проведенном в системе и в очереди"
   ]
  },
  {
   "cell_type": "code",
   "execution_count": 1061,
   "metadata": {},
   "outputs": [],
   "source": [
    "class Request:\n",
    "    ID = 0\n",
    "    \n",
    "    def __init__(self, cur_time):\n",
    "        self.id = Request.ID\n",
    "        Request.ID += 1\n",
    "        \n",
    "        self.time_in_queue = 0\n",
    "        self.time_in_system = 0\n",
    "        \n",
    "        self.start_in_queue = cur_time\n",
    "        self.start_in_system = cur_time\n",
    "    \n",
    "    def enqueue(self, cur_time):\n",
    "        self.start_in_queue = cur_time\n",
    "        #print('Reuqest #{} Enqueue: {}'.format(self.id, cur_time))\n",
    "    \n",
    "    def dequeue(self, cur_time):\n",
    "        self.time_in_queue += cur_time - self.start_in_queue\n",
    "        #print('Reuqest #{} Dequeue: {}'.format(self.id, cur_time))\n",
    "    \n",
    "    def out(self, cur_time):\n",
    "        self.time_in_system += cur_time - self.start_in_system\n",
    "    \n",
    "    def __str__(self):\n",
    "        return 'Request #{} In queue: {}, in system: {}'.format(self.id, self.time_in_queue, self.time_in_system)"
   ]
  },
  {
   "cell_type": "markdown",
   "metadata": {},
   "source": [
    "#### Канал исполнения"
   ]
  },
  {
   "cell_type": "code",
   "execution_count": 1062,
   "metadata": {},
   "outputs": [],
   "source": [
    "class Channel:\n",
    "    ID = 0\n",
    "    def __init__(self, μ, reject_probability, on_reject):\n",
    "        self.reject_probability = reject_probability\n",
    "        self.on_reject = on_reject\n",
    "        self.μ = μ\n",
    "        \n",
    "        self.free = True\n",
    "        self.end_at = 0\n",
    "        self.request = None\n",
    "        \n",
    "        self.id = Channel.ID\n",
    "        \n",
    "        Channel.ID += 1\n",
    "    \n",
    "    def run(self, start_at, request):\n",
    "        self.free = False\n",
    "        self.end_at = start_at + np.random.exponential(1 / self.μ)\n",
    "        self.request = request\n",
    "        \n",
    "        #print('[Started] Channel #{}: {:.4} -> {:.4}'.format(self.id, start_at, self.end_at))\n",
    "    \n",
    "    def try_free(self, cur_time):\n",
    "        if not self.free and self.end_at < cur_time:\n",
    "            self.free = True\n",
    "            \n",
    "            rejected = play_probability(self.reject_probability)\n",
    "            if rejected:\n",
    "                self.on_reject(self.request)\n",
    "                self.run(cur_time, self.request)\n",
    "                #print('[Rejected] Channel #{}: free at {:.4}'.format(self.id, cur_time))\n",
    "            else:\n",
    "                #print('[Completed] Channel #{}: free at {:.4}'.format(self.id, cur_time))\n",
    "                return self.request"
   ]
  },
  {
   "cell_type": "code",
   "execution_count": 1284,
   "metadata": {},
   "outputs": [],
   "source": [
    "class SMOStats:\n",
    "    def __init__(self, smo):\n",
    "        self.smo = smo\n",
    "        \n",
    "        self.queue_sizes = []\n",
    "        self.working_channels = []\n",
    "        self.total_requests = []\n",
    "        self.requests = []\n",
    "        self.request_queue_times = []\n",
    "        self.request_times = []\n",
    "        \n",
    "        self.work_intervals = []\n",
    "        self.process_intervals = []\n",
    "        \n",
    "        self.rejections = 0\n",
    "        self.cancellations = 0\n",
    "        \n",
    "    def collect(self):\n",
    "        cur_working_channels = 0\n",
    "        for channel in self.smo.channels:\n",
    "            cur_working_channels += not channel.free\n",
    "            \n",
    "        cur_queue_size = len(self.smo.queue)\n",
    "            \n",
    "        self.queue_sizes.append(cur_queue_size)\n",
    "        self.working_channels.append(cur_working_channels)\n",
    "        self.total_requests.append(cur_queue_size + cur_working_channels)\n",
    "    \n",
    "    def cancel(self):\n",
    "        self.cancellations += 1\n",
    "    \n",
    "    def reject(self):\n",
    "        self.rejections += 1\n",
    "        \n",
    "    def add_work(self, interval):\n",
    "        self.work_intervals.append(interval)\n",
    "    \n",
    "    def add_process(self):\n",
    "        self.process_intervals.append(self)\n",
    "    \n",
    "    def out(self, request):\n",
    "        self.requests.append(request)\n",
    "        self.request_queue_times.append(request.time_in_queue)\n",
    "        self.request_times.append(request.time_in_system)\n",
    "    \n",
    "    def build(self):\n",
    "        d = {'Размер очереди': self.queue_sizes, \n",
    "             'Занятые каналы': self.working_channels,\n",
    "             'Заявки в системе': self.total_requests}\n",
    "        \n",
    "        d1 = {'Время запроса в очереди': self.request_queue_times,\n",
    "              'Время запроса в системе': self.request_times}\n",
    "        \n",
    "        return pd.DataFrame(data=d), pd.DataFrame(data=d1)\n",
    "    \n",
    "    def get_cancel_prob(self):\n",
    "        return self.cancellations / self.smo.request_limit\n",
    "    \n",
    "    def get_states_probs(self):\n",
    "        states = [0] #система пуста\n",
    "        states += list(range(1, self.smo.n + 1)) #работают каналы\n",
    "        states += list(range(self.smo.n + 1, self.smo.n + self.smo.m + 1)) #работают каналы и занята очередь\n",
    "        \n",
    "        state_counts = np.zeros(len(states))\n",
    "        \n",
    "        for req in self.total_requests:\n",
    "            state_counts[req] += 1\n",
    "        \n",
    "        return states, state_counts"
   ]
  },
  {
   "cell_type": "code",
   "execution_count": 1159,
   "metadata": {},
   "outputs": [],
   "source": [
    "class SMO:\n",
    "    def __init__(self, n, m, λ, μ, p, tick_size, request_limit):\n",
    "        self.n = n\n",
    "        self.m = m\n",
    "        self.λ = λ\n",
    "        self.μ = μ\n",
    "        self.p = p\n",
    "        self.q = 1 - p\n",
    "        self.tick_size = tick_size\n",
    "        self.request_limit = request_limit\n",
    "        \n",
    "        self.reset(n, λ)\n",
    "    \n",
    "    def reset(self, n, λ):\n",
    "        Channel.ID = 1\n",
    "        Request.ID = 1\n",
    "        \n",
    "        self.stats = SMOStats(self)\n",
    "        self.request = 0\n",
    "        self.channels = [Channel(self.μ, self.q, self.request_rejected) for _ in range(n)]\n",
    "        self.queue = []\n",
    "        self.cur_time = 0.\n",
    "        self.next_time = np.random.exponential(λ)\n",
    "    \n",
    "    def request_rejected(self, request):\n",
    "        self.stats.reject()\n",
    "    \n",
    "    def push(self, request=None):\n",
    "        if not request:\n",
    "            self.request += 1\n",
    "            request = Request(self.cur_time)\n",
    "            \n",
    "        if len(self.queue) < self.m:\n",
    "            request.enqueue(self.cur_time)\n",
    "            self.queue.append(request)\n",
    "        else:\n",
    "            self.stats.cancel()\n",
    "            #print('Canceled', request)\n",
    "        \n",
    "\n",
    "    def free_channels(self):\n",
    "        for channel in self.channels:\n",
    "            request = channel.try_free(self.cur_time)\n",
    "            if request:\n",
    "                request.out(self.cur_time)\n",
    "                self.stats.out(request)\n",
    "\n",
    "    def dequeue_requests(self):\n",
    "        for channel in self.channels:\n",
    "            if len(self.queue) == 0:\n",
    "                break\n",
    "            \n",
    "            if channel.free:\n",
    "                request = self.queue.pop(0)\n",
    "                request.dequeue(self.cur_time)\n",
    "                channel.run(self.cur_time, request)\n",
    "    \n",
    "    def free_all(self):\n",
    "        while not self.is_all_free():\n",
    "            self.tick()\n",
    "    \n",
    "    def is_all_free(self):\n",
    "        for channel in self.channels:\n",
    "            if not channel.free: return False\n",
    "\n",
    "        return True\n",
    "    \n",
    "    def tick(self):\n",
    "        self.free_channels()\n",
    "        self.dequeue_requests()\n",
    "        self.stats.collect()\n",
    "\n",
    "        self.cur_time += self.tick_size\n",
    "    \n",
    "    def run(self):\n",
    "        while self.request < self.request_limit:\n",
    "            if self.cur_time >= self.next_time:\n",
    "                self.next_time = self.cur_time + np.random.exponential(1 / λ)\n",
    "                self.push()\n",
    "                \n",
    "                #print('Cur time: {:.4}, Next task arrives at {:.4}'.format(self.cur_time, self.next_time))\n",
    "\n",
    "            self.tick()\n",
    "        \n",
    "        self.free_all()"
   ]
  },
  {
   "cell_type": "code",
   "execution_count": 1242,
   "metadata": {},
   "outputs": [
    {
     "name": "stdout",
     "output_type": "stream",
     "text": [
      "Cur time: 0.0, Next task arrives at 0.5951\n"
     ]
    }
   ],
   "source": [
    "smo = SMO(n, m, λ, μ, p, 0.01, 10000)\n",
    "\n",
    "print('Cur time: {:.4}, Next task arrives at {:.4}'.format(smo.cur_time, smo.next_time))\n",
    "\n",
    "smo.run()"
   ]
  },
  {
   "cell_type": "code",
   "execution_count": 1243,
   "metadata": {},
   "outputs": [],
   "source": [
    "df_c, df_times = smo.stats.build()"
   ]
  },
  {
   "cell_type": "code",
   "execution_count": 1244,
   "metadata": {},
   "outputs": [
    {
     "data": {
      "text/html": [
       "<div>\n",
       "<style scoped>\n",
       "    .dataframe tbody tr th:only-of-type {\n",
       "        vertical-align: middle;\n",
       "    }\n",
       "\n",
       "    .dataframe tbody tr th {\n",
       "        vertical-align: top;\n",
       "    }\n",
       "\n",
       "    .dataframe thead th {\n",
       "        text-align: right;\n",
       "    }\n",
       "</style>\n",
       "<table border=\"1\" class=\"dataframe\">\n",
       "  <thead>\n",
       "    <tr style=\"text-align: right;\">\n",
       "      <th></th>\n",
       "      <th>count</th>\n",
       "      <th>mean</th>\n",
       "      <th>std</th>\n",
       "      <th>min</th>\n",
       "      <th>25%</th>\n",
       "      <th>50%</th>\n",
       "      <th>75%</th>\n",
       "      <th>max</th>\n",
       "    </tr>\n",
       "  </thead>\n",
       "  <tbody>\n",
       "    <tr>\n",
       "      <th>Размер очереди</th>\n",
       "      <td>283147.0</td>\n",
       "      <td>3.857336</td>\n",
       "      <td>3.305691</td>\n",
       "      <td>0.0</td>\n",
       "      <td>0.0</td>\n",
       "      <td>3.0</td>\n",
       "      <td>7.0</td>\n",
       "      <td>10.0</td>\n",
       "    </tr>\n",
       "    <tr>\n",
       "      <th>Занятые каналы</th>\n",
       "      <td>283147.0</td>\n",
       "      <td>2.728561</td>\n",
       "      <td>0.661360</td>\n",
       "      <td>0.0</td>\n",
       "      <td>3.0</td>\n",
       "      <td>3.0</td>\n",
       "      <td>3.0</td>\n",
       "      <td>3.0</td>\n",
       "    </tr>\n",
       "    <tr>\n",
       "      <th>Заявки в системе</th>\n",
       "      <td>283147.0</td>\n",
       "      <td>6.585897</td>\n",
       "      <td>3.668658</td>\n",
       "      <td>0.0</td>\n",
       "      <td>3.0</td>\n",
       "      <td>6.0</td>\n",
       "      <td>10.0</td>\n",
       "      <td>13.0</td>\n",
       "    </tr>\n",
       "  </tbody>\n",
       "</table>\n",
       "</div>"
      ],
      "text/plain": [
       "                     count      mean       std  min  25%  50%   75%   max\n",
       "Размер очереди    283147.0  3.857336  3.305691  0.0  0.0  3.0   7.0  10.0\n",
       "Занятые каналы    283147.0  2.728561  0.661360  0.0  3.0  3.0   3.0   3.0\n",
       "Заявки в системе  283147.0  6.585897  3.668658  0.0  3.0  6.0  10.0  13.0"
      ]
     },
     "execution_count": 1244,
     "metadata": {},
     "output_type": "execute_result"
    }
   ],
   "source": [
    "df_c.describe().T"
   ]
  },
  {
   "cell_type": "code",
   "execution_count": 1245,
   "metadata": {},
   "outputs": [
    {
     "data": {
      "text/html": [
       "<div>\n",
       "<style scoped>\n",
       "    .dataframe tbody tr th:only-of-type {\n",
       "        vertical-align: middle;\n",
       "    }\n",
       "\n",
       "    .dataframe tbody tr th {\n",
       "        vertical-align: top;\n",
       "    }\n",
       "\n",
       "    .dataframe thead th {\n",
       "        text-align: right;\n",
       "    }\n",
       "</style>\n",
       "<table border=\"1\" class=\"dataframe\">\n",
       "  <thead>\n",
       "    <tr style=\"text-align: right;\">\n",
       "      <th></th>\n",
       "      <th>count</th>\n",
       "      <th>mean</th>\n",
       "      <th>std</th>\n",
       "      <th>min</th>\n",
       "      <th>25%</th>\n",
       "      <th>50%</th>\n",
       "      <th>75%</th>\n",
       "      <th>max</th>\n",
       "    </tr>\n",
       "  </thead>\n",
       "  <tbody>\n",
       "    <tr>\n",
       "      <th>Время запроса в очереди</th>\n",
       "      <td>9424.0</td>\n",
       "      <td>1.158948</td>\n",
       "      <td>1.030973</td>\n",
       "      <td>0.00</td>\n",
       "      <td>0.2200</td>\n",
       "      <td>1.0</td>\n",
       "      <td>1.81</td>\n",
       "      <td>6.41</td>\n",
       "    </tr>\n",
       "    <tr>\n",
       "      <th>Время запроса в системе</th>\n",
       "      <td>9424.0</td>\n",
       "      <td>1.978753</td>\n",
       "      <td>1.299759</td>\n",
       "      <td>0.01</td>\n",
       "      <td>0.9875</td>\n",
       "      <td>1.8</td>\n",
       "      <td>2.74</td>\n",
       "      <td>9.24</td>\n",
       "    </tr>\n",
       "  </tbody>\n",
       "</table>\n",
       "</div>"
      ],
      "text/plain": [
       "                          count      mean       std   min     25%  50%   75%  \\\n",
       "Время запроса в очереди  9424.0  1.158948  1.030973  0.00  0.2200  1.0  1.81   \n",
       "Время запроса в системе  9424.0  1.978753  1.299759  0.01  0.9875  1.8  2.74   \n",
       "\n",
       "                          max  \n",
       "Время запроса в очереди  6.41  \n",
       "Время запроса в системе  9.24  "
      ]
     },
     "execution_count": 1245,
     "metadata": {},
     "output_type": "execute_result"
    }
   ],
   "source": [
    "df_times.describe().T"
   ]
  },
  {
   "cell_type": "code",
   "execution_count": 1246,
   "metadata": {},
   "outputs": [
    {
     "name": "stdout",
     "output_type": "stream",
     "text": [
      "Rejections: 2287\n",
      "Cancelations: 576\n",
      "Accepted: 9424\n"
     ]
    }
   ],
   "source": [
    "print('Rejections:', smo.stats.rejections)\n",
    "print('Cancelations:', smo.stats.cancellations)\n",
    "print('Accepted:', len(smo.stats.requests))"
   ]
  },
  {
   "cell_type": "code",
   "execution_count": 1247,
   "metadata": {},
   "outputs": [
    {
     "name": "stdout",
     "output_type": "stream",
     "text": [
      "Вероятность отказа: 0.0576\n"
     ]
    }
   ],
   "source": [
    "cancel_prob = smo.stats.get_cancel_prob()\n",
    "\n",
    "print('Вероятность отказа:', cancel_prob)"
   ]
  },
  {
   "cell_type": "code",
   "execution_count": 1248,
   "metadata": {},
   "outputs": [
    {
     "name": "stdout",
     "output_type": "stream",
     "text": [
      "Относительная пропускная способность: 0.9424\n"
     ]
    }
   ],
   "source": [
    "relative_bandwidth = 1 - cancel_prob\n",
    "\n",
    "print('Относительная пропускная способность:', relative_bandwidth)"
   ]
  },
  {
   "cell_type": "code",
   "execution_count": 1249,
   "metadata": {},
   "outputs": [
    {
     "name": "stdout",
     "output_type": "stream",
     "text": [
      "Абсолютная пропускная способность: 3.34552\n"
     ]
    }
   ],
   "source": [
    "absolute_bandwidth = relative_bandwidth * λ\n",
    "\n",
    "print('Абсолютная пропускная способность:', absolute_bandwidth)"
   ]
  },
  {
   "cell_type": "code",
   "execution_count": 1250,
   "metadata": {},
   "outputs": [
    {
     "data": {
      "image/png": "[encoded data removed]",
      "text/plain": [
       "<Figure size 432x288 with 1 Axes>"
      ]
     },
     "metadata": {
      "needs_background": "light"
     },
     "output_type": "display_data"
    }
   ],
   "source": [
    "states_bins, states_counts = smo.stats.get_states_probs()\n",
    "\n",
    "plt.xticks(staes_bins)\n",
    "plt.hist(smo.stats.total_requests, bins=np.array(staes_bins)-0.5, density=True);"
   ]
  },
  {
   "cell_type": "code",
   "execution_count": 1251,
   "metadata": {},
   "outputs": [],
   "source": [
    "def get_rho(λ, n, m):\n",
    "    return λ / (μ * p)\n",
    "\n",
    "\n",
    "def get_free_probability(ρ, n, m):\n",
    "    p0 = 1\n",
    "    \n",
    "    for k in range(1, n + 1):\n",
    "        p0 += ρ**k / math.factorial(k)\n",
    "    \n",
    "    p0 += ρ**(n + 1) * (1 - (ρ / n)**m) / (n * math.factorial(n) * (1 - ρ / n))\n",
    "    \n",
    "    return 1 / p0\n",
    "\n",
    "\n",
    "def get_state_probs(λ, μ, p, n, m):\n",
    "    ρ = get_rho(λ, n, m)\n",
    "    \n",
    "    p0 = get_free_probability(ρ, n, m)\n",
    "    probs = [p0]\n",
    "    \n",
    "    for k in range(1, n + 1):\n",
    "        probs.append(ρ**k / math.factorial(k) * p0)\n",
    "    \n",
    "    for k in range(1, m + 1):\n",
    "        probs.append(ρ**(n + k) / ( n**k * math.factorial(n)) * p0)\n",
    "    \n",
    "    return probs"
   ]
  },
  {
   "cell_type": "code",
   "execution_count": 1252,
   "metadata": {},
   "outputs": [],
   "source": [
    "theor_probs = get_state_probs(λ, μ, p, n, m)\n",
    "emp_probs = states_counts / sum(states_counts)"
   ]
  },
  {
   "cell_type": "code",
   "execution_count": 1253,
   "metadata": {},
   "outputs": [
    {
     "data": {
      "text/html": [
       "<div>\n",
       "<style scoped>\n",
       "    .dataframe tbody tr th:only-of-type {\n",
       "        vertical-align: middle;\n",
       "    }\n",
       "\n",
       "    .dataframe tbody tr th {\n",
       "        vertical-align: top;\n",
       "    }\n",
       "\n",
       "    .dataframe thead th {\n",
       "        text-align: right;\n",
       "    }\n",
       "</style>\n",
       "<table border=\"1\" class=\"dataframe\">\n",
       "  <thead>\n",
       "    <tr style=\"text-align: right;\">\n",
       "      <th></th>\n",
       "      <th>0</th>\n",
       "      <th>1</th>\n",
       "      <th>2</th>\n",
       "      <th>3</th>\n",
       "      <th>4</th>\n",
       "      <th>5</th>\n",
       "      <th>6</th>\n",
       "      <th>7</th>\n",
       "      <th>8</th>\n",
       "      <th>9</th>\n",
       "      <th>10</th>\n",
       "      <th>11</th>\n",
       "      <th>12</th>\n",
       "      <th>13</th>\n",
       "    </tr>\n",
       "  </thead>\n",
       "  <tbody>\n",
       "    <tr>\n",
       "      <th>Теоретическая вероятность</th>\n",
       "      <td>0.018998</td>\n",
       "      <td>0.056202</td>\n",
       "      <td>0.083132</td>\n",
       "      <td>0.081977</td>\n",
       "      <td>0.080839</td>\n",
       "      <td>0.079716</td>\n",
       "      <td>0.078609</td>\n",
       "      <td>0.077517</td>\n",
       "      <td>0.076441</td>\n",
       "      <td>0.075379</td>\n",
       "      <td>0.074332</td>\n",
       "      <td>0.073300</td>\n",
       "      <td>0.072281</td>\n",
       "      <td>0.071278</td>\n",
       "    </tr>\n",
       "    <tr>\n",
       "      <th>Практическая вероятность</th>\n",
       "      <td>0.018259</td>\n",
       "      <td>0.065040</td>\n",
       "      <td>0.086580</td>\n",
       "      <td>0.083974</td>\n",
       "      <td>0.083723</td>\n",
       "      <td>0.083667</td>\n",
       "      <td>0.081516</td>\n",
       "      <td>0.080460</td>\n",
       "      <td>0.081975</td>\n",
       "      <td>0.075240</td>\n",
       "      <td>0.073375</td>\n",
       "      <td>0.068417</td>\n",
       "      <td>0.060114</td>\n",
       "      <td>0.057659</td>\n",
       "    </tr>\n",
       "  </tbody>\n",
       "</table>\n",
       "</div>"
      ],
      "text/plain": [
       "                                  0         1         2         3         4  \\\n",
       "Теоретическая вероятность  0.018998  0.056202  0.083132  0.081977  0.080839   \n",
       "Практическая вероятность   0.018259  0.065040  0.086580  0.083974  0.083723   \n",
       "\n",
       "                                  5         6         7         8         9  \\\n",
       "Теоретическая вероятность  0.079716  0.078609  0.077517  0.076441  0.075379   \n",
       "Практическая вероятность   0.083667  0.081516  0.080460  0.081975  0.075240   \n",
       "\n",
       "                                 10        11        12        13  \n",
       "Теоретическая вероятность  0.074332  0.073300  0.072281  0.071278  \n",
       "Практическая вероятность   0.073375  0.068417  0.060114  0.057659  "
      ]
     },
     "execution_count": 1253,
     "metadata": {},
     "output_type": "execute_result"
    }
   ],
   "source": [
    "pd.DataFrame(data={'Теоретическая вероятность': theor_probs, 'Практическая вероятность': emp_probs}).T"
   ]
  },
  {
   "cell_type": "code",
   "execution_count": 1255,
   "metadata": {},
   "outputs": [],
   "source": [
    "def get_cancel_prob(ρ, n, m):\n",
    "    p0 = get_free_probability(ρ, n, m)\n",
    "    return ρ**(n + m)  / (n**m * math.factorial(n)) * p0"
   ]
  },
  {
   "cell_type": "code",
   "execution_count": 1256,
   "metadata": {},
   "outputs": [],
   "source": [
    "theor_cancel_prob = get_cancel_prob(get_rho(λ, n, m), n, m)\n",
    "theor_relative_bandwidth = 1 - theor_cancel_prob\n",
    "theor_absolute_bandwidth = λ * theor_relative_bandwidth"
   ]
  },
  {
   "cell_type": "code",
   "execution_count": 1257,
   "metadata": {},
   "outputs": [
    {
     "name": "stdout",
     "output_type": "stream",
     "text": [
      "Теоретическая вероятность отказа: 0.07127755574368404\n",
      "Практическая вероятность отказа: 0.0576\n"
     ]
    }
   ],
   "source": [
    "print('Теоретическая вероятность отказа:', theor_cancel_prob)\n",
    "print('Практическая вероятность отказа:', cancel_prob)"
   ]
  },
  {
   "cell_type": "code",
   "execution_count": 1258,
   "metadata": {},
   "outputs": [
    {
     "name": "stdout",
     "output_type": "stream",
     "text": [
      "Теоретическая относительная пропускная способность: 0.928722444256316\n",
      "Практическая относительная пропускная способность: 0.9424\n"
     ]
    }
   ],
   "source": [
    "print('Теоретическая относительная пропускная способность:', theor_relative_bandwidth)\n",
    "print('Практическая относительная пропускная способность:', relative_bandwidth)"
   ]
  },
  {
   "cell_type": "code",
   "execution_count": 1259,
   "metadata": {},
   "outputs": [
    {
     "name": "stdout",
     "output_type": "stream",
     "text": [
      "Теоретическая абсолютная пропускная способность: 3.2969646771099215\n",
      "Практическая абсолютная пропускная способность: 3.34552\n"
     ]
    }
   ],
   "source": [
    "print('Теоретическая абсолютная пропускная способность:', theor_absolute_bandwidth)\n",
    "print('Практическая абсолютная пропускная способность:', absolute_bandwidth)"
   ]
  },
  {
   "cell_type": "markdown",
   "metadata": {},
   "source": [
    "$$L_{och} = \\frac{p_0\\rho^{n+1}}{nn!}\\sum_{k=1}^{m}k(\\frac{\\rho}{n})^{k-1}$$"
   ]
  },
  {
   "cell_type": "code",
   "execution_count": 1272,
   "metadata": {},
   "outputs": [],
   "source": [
    "def get_theor_interval_len(ρ, n, m):\n",
    "    p0 = get_free_probability(ρ, n, m)\n",
    "    return p0 * ρ**(n + 1) / (n * math.factorial(n)) * sum(k * (ρ / n)**(k - 1) for k in range(1, m + 1))"
   ]
  },
  {
   "cell_type": "code",
   "execution_count": 1277,
   "metadata": {},
   "outputs": [],
   "source": [
    "theor_queue_size = get_theor_interval_len(get_rho(λ, n, m), n, m)\n",
    "pract_queue_size = np.mean(smo.stats.queue_sizes)"
   ]
  },
  {
   "cell_type": "code",
   "execution_count": 1278,
   "metadata": {},
   "outputs": [
    {
     "name": "stdout",
     "output_type": "stream",
     "text": [
      "Теоретическая длина очереди: 4.090669962582558\n",
      "Практическая длина очереди: 3.8573355889343697\n"
     ]
    }
   ],
   "source": [
    "print('Теоретическая длина очереди:', theor_queue_size)\n",
    "print('Практическая длина очереди:', pract_queue_size)"
   ]
  },
  {
   "cell_type": "code",
   "execution_count": 1275,
   "metadata": {},
   "outputs": [],
   "source": [
    "theor_channel_loaded = get_rho(λ, n, m) * theor_relative_bandwidth\n",
    "pract_channel_loaded = np.mean(smo.stats.working_channels)"
   ]
  },
  {
   "cell_type": "code",
   "execution_count": 1276,
   "metadata": {},
   "outputs": [
    {
     "name": "stdout",
     "output_type": "stream",
     "text": [
      "Теоретическое количество занятых каналов: 2.7474705642582675\n",
      "Практическое количество занятых каналов: 2.7285614892617613\n"
     ]
    }
   ],
   "source": [
    "print('Теоретическое количество занятых каналов:', theor_channel_loaded)\n",
    "print('Практическое количество занятых каналов:', pract_channel_loaded)"
   ]
  },
  {
   "cell_type": "code",
   "execution_count": 1279,
   "metadata": {},
   "outputs": [],
   "source": [
    "theor_system_load = theor_queue_size + theor_channel_loaded\n",
    "pract_system_load = np.mean(smo.stats.total_requests)"
   ]
  },
  {
   "cell_type": "code",
   "execution_count": 1280,
   "metadata": {},
   "outputs": [
    {
     "name": "stdout",
     "output_type": "stream",
     "text": [
      "Теоретическое количество заявок в системе: 6.838140526840825\n",
      "Практическое количество заявок в системе: 6.5858970781961315\n"
     ]
    }
   ],
   "source": [
    "print('Теоретическое количество заявок в системе:', theor_system_load)\n",
    "print('Практическое количество заявок в системе:', pract_system_load)"
   ]
  },
  {
   "cell_type": "code",
   "execution_count": null,
   "metadata": {},
   "outputs": [],
   "source": []
  }
 ],
 "metadata": {
  "kernelspec": {
   "display_name": "Python 3",
   "language": "python",
   "name": "python3"
  },
  "language_info": {
   "codemirror_mode": {
    "name": "ipython",
    "version": 3
   },
   "file_extension": ".py",
   "mimetype": "text/x-python",
   "name": "python",
   "nbconvert_exporter": "python",
   "pygments_lexer": "ipython3",
   "version": "3.6.6"
  }
 },
 "nbformat": 4,
 "nbformat_minor": 2
}

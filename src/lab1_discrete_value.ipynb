{
 "cells": [
  {
   "cell_type": "code",
   "execution_count": 1,
   "metadata": {},
   "outputs": [],
   "source": [
    "from statlib.rand.basic_rand import BasicRand\n",
    "from statlib.rand.engine import JLKiss64RandEngine\n",
    "from matplotlib import pyplot as plt\n",
    "import math\n",
    "import numpy as np\n",
    "\n",
    "\n",
    "class CardShuffleChoice:\n",
    "    EPSILON = 0.01\n",
    "    SCALE = 100000\n",
    "    \n",
    "    def __init__(self, symbols: list, possibilities: list, gen, default_scale=SCALE):\n",
    "        self.gen = gen\n",
    "        self.cards = []\n",
    "        \n",
    "        for i in range(len(possibilities)):\n",
    "            number = possibilities[i] * default_scale\n",
    "\n",
    "            for j in range(int(number)):\n",
    "                self.cards.append(symbols[i])\n",
    "\n",
    "    def next(self):\n",
    "        next_id = self.gen.next() % len(self.cards)\n",
    "\n",
    "        return self.cards[next_id]"
   ]
  },
  {
   "cell_type": "code",
   "execution_count": 21,
   "metadata": {},
   "outputs": [],
   "source": [
    "def get_bins_count(n):\n",
    "    if n <= 100:\n",
    "        return int(np.sqrt(n))\n",
    "    else:\n",
    "        return 4 * int(np.log10(n))\n",
    "\n",
    "_lambda = 2\n",
    "n = 10000\n",
    "segments = get_bins_count(n)"
   ]
  },
  {
   "cell_type": "code",
   "execution_count": 22,
   "metadata": {},
   "outputs": [],
   "source": [
    "def poisson_distrib(_lambda: int, k: int) -> list:\n",
    "    poisson = []\n",
    "    for i in range(k):\n",
    "        poisson.append(math.exp(-_lambda) * _lambda**i/ math.factorial(i))\n",
    "    return poisson\n",
    "\n",
    "values = [i for i in range(1, 11)]\n",
    "possibilities = poisson_distrib(_lambda, 10)\n",
    "\n",
    "gen = BasicRand(JLKiss64RandEngine())\n",
    "card_shuffle = CardShuffleChoice(values, possibilities, gen)\n",
    "\n",
    "def build_sample(n):\n",
    "    res = []\n",
    "    for i in range(n):\n",
    "        res.append(card_shuffle.next())\n",
    "\n",
    "    x_var = sorted(res)\n",
    "    return x_var\n",
    "\n",
    "x_var = build_sample(n)"
   ]
  },
  {
   "cell_type": "markdown",
   "metadata": {},
   "source": [
    "### Равноинтервальная гистограмма"
   ]
  },
  {
   "cell_type": "code",
   "execution_count": 28,
   "metadata": {},
   "outputs": [
    {
     "data": {
      "image/png": "[encoded data removed]",
      "text/plain": [
       "<Figure size 432x288 with 1 Axes>"
      ]
     },
     "metadata": {},
     "output_type": "display_data"
    }
   ],
   "source": [
    "vals, bins, _ = plt.hist(x_var)"
   ]
  },
  {
   "cell_type": "markdown",
   "metadata": {},
   "source": [
    "### Равновероятностная гистограмма"
   ]
  },
  {
   "cell_type": "code",
   "execution_count": 5,
   "metadata": {},
   "outputs": [
    {
     "name": "stderr",
     "output_type": "stream",
     "text": [
      "C:\\Users\\User-PC\\Anaconda3\\lib\\site-packages\\numpy\\lib\\function_base.py:838: RuntimeWarning: invalid value encountered in true_divide\n",
      "  return n/db/n.sum(), bin_edges\n"
     ]
    },
    {
     "data": {
      "image/png": "[encoded data removed]",
      "text/plain": [
       "<Figure size 432x288 with 1 Axes>"
      ]
     },
     "metadata": {},
     "output_type": "display_data"
    }
   ],
   "source": [
    "borders_eq = [x_var[0]] + [(x_var[i] + x_var[i + 1]) / 2 for i in range(n // segments - 1, n - 1, n // segments)] + [x_var[-1]]\n",
    "\n",
    "vals_int, bins_int, patches_int = plt.hist(x_var, bins=borders_eq, density=True)"
   ]
  },
  {
   "cell_type": "markdown",
   "metadata": {},
   "source": [
    "### Найдем точечное значение матожидания случайной величины"
   ]
  },
  {
   "cell_type": "code",
   "execution_count": 6,
   "metadata": {},
   "outputs": [
    {
     "name": "stdout",
     "output_type": "stream",
     "text": [
      "3.0017\n"
     ]
    }
   ],
   "source": [
    "m_p = np.sum(x_var) / n\n",
    "print(m_p)"
   ]
  },
  {
   "cell_type": "markdown",
   "metadata": {},
   "source": [
    "### Найдем точечное значение дисперсии случайной величины"
   ]
  },
  {
   "cell_type": "code",
   "execution_count": 7,
   "metadata": {},
   "outputs": [
    {
     "name": "stdout",
     "output_type": "stream",
     "text": [
      "1.9934964596459648\n"
     ]
    }
   ],
   "source": [
    "d_p = np.sum((x_var - m_p)**2) / (n - 1)\n",
    "print(d_p)"
   ]
  },
  {
   "cell_type": "code",
   "execution_count": 8,
   "metadata": {},
   "outputs": [
    {
     "name": "stdout",
     "output_type": "stream",
     "text": [
      "1.57\n"
     ]
    }
   ],
   "source": [
    "import scipy.stats\n",
    "\n",
    "laplace = [(x, scipy.stats.norm.cdf(x) - 0.5) for x in np.arange(0, 5, 0.01)]\n",
    "\n",
    "def find_x_laplace(u):\n",
    "    good_x = 0\n",
    "    min_d = 10\n",
    "    for x, y in laplace:\n",
    "        if abs(u - y) < min_d:\n",
    "            min_d = abs(u - y)\n",
    "            good_x = x\n",
    "    return good_x\n",
    "\n",
    "print(find_x_laplace(0.4418))"
   ]
  },
  {
   "cell_type": "markdown",
   "metadata": {},
   "source": [
    "### Построим график зависимости величины интервала для матожидания от значимости при точечной оценке"
   ]
  },
  {
   "cell_type": "code",
   "execution_count": 9,
   "metadata": {},
   "outputs": [
    {
     "data": {
      "image/png": "[encoded data removed]",
      "text/plain": [
       "<Figure size 432x288 with 1 Axes>"
      ]
     },
     "metadata": {},
     "output_type": "display_data"
    }
   ],
   "source": [
    "def get_interval(s, val, n):\n",
    "    return s * find_x_laplace(val) / np.sqrt(n)\n",
    "\n",
    "alphas = np.arange(0.01, 0.31, 0.005)\n",
    "laplaces = (1 - alphas) / 2\n",
    "lens = []\n",
    "for i in range(len(laplaces)):\n",
    "    interval_len = 2 * get_interval(np.sqrt(d_p), laplaces[i], n)\n",
    "    lens.append(interval_len)\n",
    "\n",
    "plt.ylabel('Interval Length')\n",
    "plt.xlabel('Alpha')\n",
    "plt.plot(alphas, lens)\n",
    "\n",
    "plt.show()"
   ]
  },
  {
   "cell_type": "markdown",
   "metadata": {},
   "source": [
    "### Довериетельный интервал для дисперсии"
   ]
  },
  {
   "cell_type": "code",
   "execution_count": 10,
   "metadata": {},
   "outputs": [],
   "source": [
    "from scipy.stats import chi2"
   ]
  },
  {
   "cell_type": "code",
   "execution_count": 15,
   "metadata": {},
   "outputs": [],
   "source": [
    "def get_dispersion_intervals(s_sqr, alpha, n):\n",
    "    return s_sqr * (n - 1) / chi2.ppf(1 - alpha / 2, n - 1), s_sqr * (n - 1) / chi2.ppf(alpha / 2, n - 1)\n",
    "\n",
    "def get_dispersion_intervals_known(s_sqr, alpha, n):\n",
    "    return s_sqr * n / chi2.ppf(1 - alpha / 2, n), s_sqr * n / chi2.ppf(alpha / 2, n)\n",
    "\n",
    "def build_solution_dispersion(n):\n",
    "    x_var = build_sample(n)\n",
    "    m_p = np.sum(x_var) / n\n",
    "    d_p = np.sum((x_var - m_p)**2) / (n - 1)\n",
    "    alphas = np.arange(0.01, 0.31, 0.005)\n",
    "    lens = []\n",
    "    for i in range(len(laplaces)):\n",
    "        l, r = get_dispersion_intervals(d_p, alphas[i], n)\n",
    "        lens.append(r - l)\n",
    "\n",
    "    plt.title('n = {0}'.format(n))\n",
    "    plt.ylabel('Interval Length')\n",
    "    plt.xlabel('Alpha')\n",
    "    plt.plot(alphas, lens)\n",
    "    \n",
    "    plt.show()"
   ]
  },
  {
   "cell_type": "code",
   "execution_count": 12,
   "metadata": {},
   "outputs": [],
   "source": [
    "from ipywidgets import interact, IntSlider"
   ]
  },
  {
   "cell_type": "code",
   "execution_count": 18,
   "metadata": {},
   "outputs": [
    {
     "data": {
      "application/vnd.jupyter.widget-view+json": {
       "model_id": "755bbf062da748788af269cf072256d4",
       "version_major": 2,
       "version_minor": 0
      },
      "text/plain": [
       "interactive(children=(IntSlider(value=30, description='n', max=150, min=30, step=10), Output()), _dom_classes=…"
      ]
     },
     "metadata": {},
     "output_type": "display_data"
    }
   ],
   "source": [
    "interact(build_solution_dispersion, n=IntSlider(min=30, max=150, step=10, value=30));"
   ]
  },
  {
   "cell_type": "markdown",
   "metadata": {},
   "source": [
    "### Проверим критерий согласия Пиррсона"
   ]
  },
  {
   "cell_type": "code",
   "execution_count": 29,
   "metadata": {},
   "outputs": [],
   "source": [
    "def get_F(lambda_):\n",
    "    def F(x):\n",
    "        x = int(x)\n",
    "        return math.exp(-_lambda) * _lambda**x / math.factorial(x)\n",
    "    \n",
    "    return F\n",
    "\n",
    "def pearson_chi(bins, vals, F):\n",
    "    n = sum(vals)\n",
    "    chi = 0\n",
    "    for i in range(len(bins) - 1):\n",
    "        l = bins[i]\n",
    "        r = bins[i + 1]\n",
    "        pi_s = F(r) - F(l)\n",
    "        pi = vals[i] / n\n",
    "        chi += (pi - pi_s)**2 / pi\n",
    "    \n",
    "    return chi * len(bins)"
   ]
  },
  {
   "cell_type": "code",
   "execution_count": 30,
   "metadata": {},
   "outputs": [
    {
     "name": "stdout",
     "output_type": "stream",
     "text": [
      "2 1.9\n",
      "2 1.0\n",
      "2 2.8\n",
      "2 1.9\n",
      "2 3.7\n",
      "2 2.8\n",
      "2 4.6\n",
      "2 3.7\n",
      "2 5.5\n",
      "2 4.6\n",
      "2 6.4\n",
      "2 5.5\n",
      "2 7.3\n",
      "2 6.4\n",
      "2 8.2\n",
      "2 7.3\n",
      "2 9.1\n",
      "2 8.2\n",
      "2 10.0\n",
      "2 9.1\n",
      "Experimental chi square: 18.41550390420146, Table chi square: 4.574813079322225\n"
     ]
    }
   ],
   "source": [
    "from scipy.stats import chi2\n",
    "\n",
    "chi_sqr = pearson_chi(bins, vals, get_F(_lambda))\n",
    "table_pearson = chi2.ppf(0.05, len(bins))\n",
    "print('Experimental chi square: {cs}, Table chi square: {ts}'.format(cs=chi_sqr, ts=table_pearson))\n",
    "if chi_sqr < table_pearson:\n",
    "    print('Good')"
   ]
  },
  {
   "cell_type": "code",
   "execution_count": null,
   "metadata": {},
   "outputs": [],
   "source": []
  }
 ],
 "metadata": {
  "kernelspec": {
   "display_name": "Python 3",
   "language": "python",
   "name": "python3"
  },
  "language_info": {
   "codemirror_mode": {
    "name": "ipython",
    "version": 3
   },
   "file_extension": ".py",
   "mimetype": "text/x-python",
   "name": "python",
   "nbconvert_exporter": "python",
   "pygments_lexer": "ipython3",
   "version": "3.6.6"
  }
 },
 "nbformat": 4,
 "nbformat_minor": 2
}

{
 "cells": [
  {
   "cell_type": "code",
   "execution_count": 1,
   "metadata": {},
   "outputs": [],
   "source": [
    "from statlib.simple_distribs import Cauchy, Pareto\n",
    "from statlib.rand.basic_rand import BasicRand\n",
    "from statlib.rand.engine import JLKiss64RandEngine\n",
    "from matplotlib import pyplot as plt\n",
    "import numpy as np"
   ]
  },
  {
   "cell_type": "markdown",
   "metadata": {},
   "source": [
    "### Создадим генератор случайной величины"
   ]
  },
  {
   "cell_type": "code",
   "execution_count": 2,
   "metadata": {},
   "outputs": [],
   "source": [
    "gen = BasicRand(JLKiss64RandEngine())\n",
    "\n",
    "par = Pareto(gen)"
   ]
  },
  {
   "cell_type": "markdown",
   "metadata": {},
   "source": [
    "#### Начальные параметры для гистограмм"
   ]
  },
  {
   "cell_type": "code",
   "execution_count": 41,
   "metadata": {},
   "outputs": [],
   "source": [
    "def get_bins_count(n):\n",
    "    if n <= 100:\n",
    "        return int(np.sqrt(n))\n",
    "    else:\n",
    "        return 4 * int(np.log10(n))\n",
    "\n",
    "n = 1000000\n",
    "segments = get_bins_count(nsamples)"
   ]
  },
  {
   "cell_type": "markdown",
   "metadata": {},
   "source": [
    "### Равноинтервальная гистограмма"
   ]
  },
  {
   "cell_type": "code",
   "execution_count": 42,
   "metadata": {},
   "outputs": [
    {
     "data": {
      "text/plain": [
       "(array([5.33455e+05, 2.47684e+05, 1.15614e+05, 5.42960e+04, 2.55410e+04,\n",
       "        1.23040e+04, 5.86500e+03, 2.75100e+03, 1.30000e+03, 5.62000e+02,\n",
       "        3.13000e+02, 1.62000e+02, 6.70000e+01, 4.10000e+01, 2.50000e+01,\n",
       "        8.00000e+00, 7.00000e+00, 1.00000e+00, 1.00000e+00, 1.00000e+00,\n",
       "        1.00000e+00, 0.00000e+00, 0.00000e+00, 1.00000e+00]),\n",
       " array([1.00000002, 1.00766174, 1.01532347, 1.02298519, 1.03064691,\n",
       "        1.03830863, 1.04597035, 1.05363207, 1.0612938 , 1.06895552,\n",
       "        1.07661724, 1.08427896, 1.09194068, 1.0996024 , 1.10726412,\n",
       "        1.11492585, 1.12258757, 1.13024929, 1.13791101, 1.14557273,\n",
       "        1.15323445, 1.16089618, 1.1685579 , 1.17621962, 1.18388134]),\n",
       " <a list of 24 Patch objects>)"
      ]
     },
     "execution_count": 42,
     "metadata": {},
     "output_type": "execute_result"
    },
    {
     "data": {
      "image/png": "[encoded data removed]",
      "text/plain": [
       "<Figure size 432x288 with 1 Axes>"
      ]
     },
     "metadata": {},
     "output_type": "display_data"
    }
   ],
   "source": [
    "res = []\n",
    "\n",
    "for _ in range(nsamples):\n",
    "    res.append(par.next(1, 100))\n",
    "\n",
    "plt.hist(res, bins=segments)"
   ]
  },
  {
   "cell_type": "code",
   "execution_count": 43,
   "metadata": {},
   "outputs": [],
   "source": [
    "x_var = sorted(res)\n",
    "counts = {}\n",
    "for x in x_var:\n",
    "    counts[x] = counts.get(x, 0) + 1\n",
    "    \n",
    "F = [0]\n",
    "for i in range(len(x_var) - 1):\n",
    "    F.append(F[i] + counts[x_var[i]] / n)\n",
    "\n",
    "def distr_fun(x):\n",
    "    for i in range(1, len(x_var)):\n",
    "        if x_var[i - 1] <= x < x_var[i]:\n",
    "            return F[i - 1]\n",
    "    return 1"
   ]
  },
  {
   "cell_type": "code",
   "execution_count": 44,
   "metadata": {},
   "outputs": [
    {
     "data": {
      "text/plain": [
       "[<matplotlib.lines.Line2D at 0x20720afa208>]"
      ]
     },
     "execution_count": 44,
     "metadata": {},
     "output_type": "execute_result"
    },
    {
     "data": {
      "image/png": "[encoded data removed]",
      "text/plain": [
       "<Figure size 432x288 with 1 Axes>"
      ]
     },
     "metadata": {},
     "output_type": "display_data"
    }
   ],
   "source": [
    "plt.step(sorted(res), F)"
   ]
  },
  {
   "cell_type": "markdown",
   "metadata": {},
   "source": [
    "### Равновероятностная гистограмма"
   ]
  },
  {
   "cell_type": "code",
   "execution_count": 48,
   "metadata": {},
   "outputs": [
    {
     "name": "stdout",
     "output_type": "stream",
     "text": [
      "[1.0000000230059383, 1.0004246822003116, 1.0008704388808116, 1.00133457545762, 1.0018258717988848, 1.0023382984473808, 1.0028804701432463, 1.0034577118724868, 1.004066683226431, 1.0047207482502605, 1.005414990753399, 1.0061593325566847, 1.0069671948528554, 1.0078415423952292, 1.0087994345950015, 1.0098669170052306, 1.0110520273804906, 1.0124122389127084, 1.0139639953483992, 1.0158236420571776, 1.018091435607376, 1.0210086870512547, 1.0251877923676536, 1.032312438633657, 1.117825941030711, 1.1838813403382142]\n"
     ]
    },
    {
     "data": {
      "text/plain": [
       "(array([9.81163261e+01, 9.34725195e+01, 8.97709900e+01, 8.48082847e+01,\n",
       "        8.13111498e+01, 7.68501940e+01, 7.21811988e+01, 6.84202955e+01,\n",
       "        6.37031464e+01, 6.00164925e+01, 5.59769716e+01, 5.15756215e+01,\n",
       "        4.76538195e+01, 4.34975877e+01, 3.90320249e+01, 3.51579067e+01,\n",
       "        3.06320003e+01, 2.68508633e+01, 2.24053310e+01, 1.83729246e+01,\n",
       "        1.42826221e+01, 9.97007657e+00, 5.84814999e+00, 4.87244690e-01,\n",
       "        2.42220926e-04]),\n",
       " array([1.00000002, 1.00042468, 1.00087044, 1.00133458, 1.00182587,\n",
       "        1.0023383 , 1.00288047, 1.00345771, 1.00406668, 1.00472075,\n",
       "        1.00541499, 1.00615933, 1.00696719, 1.00784154, 1.00879943,\n",
       "        1.00986692, 1.01105203, 1.01241224, 1.013964  , 1.01582364,\n",
       "        1.01809144, 1.02100869, 1.02518779, 1.03231244, 1.11782594,\n",
       "        1.18388134]),\n",
       " <a list of 25 Patch objects>)"
      ]
     },
     "execution_count": 48,
     "metadata": {},
     "output_type": "execute_result"
    },
    {
     "data": {
      "image/png": "[encoded data removed]",
      "text/plain": [
       "<Figure size 432x288 with 1 Axes>"
      ]
     },
     "metadata": {},
     "output_type": "display_data"
    }
   ],
   "source": [
    "borders_eq = [x_var[0]] + [(x_var[i] + x_var[i + 1]) / 2 for i in range(n // segments - 1, n - 1, n // segments)] + [x_var[-1]]\n",
    "\n",
    "print(borders_eq)\n",
    "\n",
    "plt.hist(x_var, bins=borders_eq, density=True)\n",
    "#plt.plot(res, H)"
   ]
  },
  {
   "cell_type": "code",
   "execution_count": null,
   "metadata": {},
   "outputs": [],
   "source": []
  }
 ],
 "metadata": {
  "kernelspec": {
   "display_name": "Python 3",
   "language": "python",
   "name": "python3"
  },
  "language_info": {
   "codemirror_mode": {
    "name": "ipython",
    "version": 3
   },
   "file_extension": ".py",
   "mimetype": "text/x-python",
   "name": "python",
   "nbconvert_exporter": "python",
   "pygments_lexer": "ipython3",
   "version": "3.6.6"
  }
 },
 "nbformat": 4,
 "nbformat_minor": 2
}
